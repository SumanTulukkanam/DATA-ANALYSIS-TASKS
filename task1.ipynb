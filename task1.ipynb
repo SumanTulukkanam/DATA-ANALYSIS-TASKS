{
 "cells": [
  {
   "cell_type": "code",
   "execution_count": 4,
   "id": "9ab182e3-1bc5-480e-b02f-b42193f0e887",
   "metadata": {},
   "outputs": [
    {
     "name": "stdout",
     "output_type": "stream",
     "text": [
      "updated list: [100, 2, 4, 5, 6, 10]\n"
     ]
    }
   ],
   "source": [
    "#LISTS\n",
    "\n",
    "my_list=[1,2,3,4,5,6]\n",
    "\n",
    "my_list.append(10)\n",
    "\n",
    "my_list.remove(3)\n",
    "\n",
    "my_list[0]=100\n",
    "\n",
    "print(\"updated list:\",my_list)\n"
   ]
  },
  {
   "cell_type": "code",
   "execution_count": 6,
   "id": "84cf5e06-2a6d-47e0-9fa1-bb53d679f3ae",
   "metadata": {},
   "outputs": [
    {
     "name": "stdout",
     "output_type": "stream",
     "text": [
      "updated dictionary : {'name': 'suman', 'city': 'mumbai', 'gender': 'male'}\n"
     ]
    }
   ],
   "source": [
    "#DICTIONARIES\n",
    "\n",
    "my_dict={'name':'suman' , 'age':19 , 'city':'chennai'}\n",
    "\n",
    "my_dict['gender']='male'\n",
    "\n",
    "del my_dict['age']\n",
    "\n",
    "my_dict['city']='mumbai'\n",
    "\n",
    "print(\"updated dictionary :\",my_dict)\n"
   ]
  },
  {
   "cell_type": "code",
   "execution_count": 7,
   "id": "3275ce40-3c87-4fa3-bd80-042612d37daf",
   "metadata": {},
   "outputs": [
    {
     "name": "stdout",
     "output_type": "stream",
     "text": [
      "updated set: {2, 4, 5, 6, 7, 100}\n"
     ]
    }
   ],
   "source": [
    "#SET \n",
    "\n",
    "my_set={1,2,3,4,5,6}\n",
    "\n",
    "my_set.add(7)\n",
    "\n",
    "my_set.remove(3)\n",
    "\n",
    "my_set.discard(1)\n",
    "my_set.add(100)\n",
    "\n",
    "print(\"updated set:\",my_set)"
   ]
  },
  {
   "cell_type": "code",
   "execution_count": null,
   "id": "800b1f41-91b5-4b58-abfc-ee44b7a977fc",
   "metadata": {},
   "outputs": [],
   "source": []
  }
 ],
 "metadata": {
  "kernelspec": {
   "display_name": "Python 3 (ipykernel)",
   "language": "python",
   "name": "python3"
  },
  "language_info": {
   "codemirror_mode": {
    "name": "ipython",
    "version": 3
   },
   "file_extension": ".py",
   "mimetype": "text/x-python",
   "name": "python",
   "nbconvert_exporter": "python",
   "pygments_lexer": "ipython3",
   "version": "3.12.4"
  }
 },
 "nbformat": 4,
 "nbformat_minor": 5
}
